{
 "cells": [
  {
   "cell_type": "code",
   "execution_count": 1,
   "metadata": {},
   "outputs": [
    {
     "data": {
      "text/plain": [
       "'Error: User with ID random-user-id-69 already exists.'"
      ]
     },
     "execution_count": 1,
     "metadata": {},
     "output_type": "execute_result"
    }
   ],
   "source": [
    "from utils.tools import *\n",
    "\n",
    "create_user('random-user-id-69', 'Viraj')"
   ]
  },
  {
   "cell_type": "code",
   "execution_count": 4,
   "metadata": {},
   "outputs": [
    {
     "name": "stdout",
     "output_type": "stream",
     "text": [
      "something\n"
     ]
    }
   ],
   "source": [
    "def get_past_orders(user_id: str) -> list:\n",
    "    print(user_id)\n",
    "\n",
    "get_past_orders(**{\"user_id\": \"something\"})"
   ]
  },
  {
   "cell_type": "code",
   "execution_count": 4,
   "metadata": {},
   "outputs": [
    {
     "data": {
      "text/plain": [
       "[{'order_id': 1,\n",
       "  'total_amount': Decimal('40.95'),\n",
       "  'status': 'Shipped',\n",
       "  'items': [{'product_id': 1,\n",
       "    'product_name': 'Organic Almonds',\n",
       "    'quantity': 2,\n",
       "    'price_per_unit': Decimal('12.99')},\n",
       "   {'product_id': 2,\n",
       "    'product_name': 'Whole Wheat Pasta',\n",
       "    'quantity': 3,\n",
       "    'price_per_unit': Decimal('4.99')}]}]"
      ]
     },
     "execution_count": 2,
     "metadata": {},
     "output_type": "execute_result"
    }
   ],
   "source": [
    "get_past_orders('random-user-id-69')"
   ]
  },
  {
   "cell_type": "code",
   "execution_count": 3,
   "metadata": {},
   "outputs": [
    {
     "data": {
      "text/plain": [
       "{'order_id': 1, 'total_amount': Decimal('40.95'), 'status': 'Pending'}"
      ]
     },
     "execution_count": 3,
     "metadata": {},
     "output_type": "execute_result"
    }
   ],
   "source": [
    "place_order('random-user-id-69', {1: 2, 2: 3})"
   ]
  },
  {
   "cell_type": "code",
   "execution_count": 4,
   "metadata": {},
   "outputs": [
    {
     "data": {
      "text/plain": [
       "{'message': \"1 order(s) successfully updated to 'Shipped'.\"}"
      ]
     },
     "execution_count": 4,
     "metadata": {},
     "output_type": "execute_result"
    }
   ],
   "source": [
    "refresh_order_status()"
   ]
  },
  {
   "cell_type": "code",
   "execution_count": 4,
   "metadata": {},
   "outputs": [
    {
     "name": "stdout",
     "output_type": "stream",
     "text": [
      "[('fetch_data', [42, 'hello, world', [1, 2, 3]]), ('process_text', ['single quoted string', {'key': 'value'}])]\n",
      "Calling fetch_data with arguments: [42, 'hello, world', [1, 2, 3]]\n",
      "Calling process_text with arguments: ['single quoted string', {'key': 'value'}]\n"
     ]
    }
   ],
   "source": [
    "import re\n",
    "\n",
    "# Updated regex to capture tool name and raw input string\n",
    "action_re = re.compile(r\"^Action: (\\w+): (.+)$\")\n",
    "\n",
    "# Example response content\n",
    "response_content = \"\"\"Action: fetch_data: 42, \"hello, world\", [1, 2, 3]\n",
    "Action: process_text: 'single quoted string', {\"key\": \"value\"}\n",
    "\"\"\"\n",
    "\n",
    "# Extract actions\n",
    "actions = [action_re.match(a) for a in response_content.split(\"\\n\") if action_re.match(a)]\n",
    "\n",
    "# Function to parse tool inputs correctly\n",
    "import ast\n",
    "\n",
    "def parse_tool_inputs(raw_inputs: str):\n",
    "    \"\"\"Parses tool inputs into a list, handling strings, lists, and dicts correctly.\"\"\"\n",
    "    try:\n",
    "        return list(ast.literal_eval(f\"({raw_inputs})\"))  # Evaluates as a tuple, then converts to list\n",
    "    except (SyntaxError, ValueError):\n",
    "        return [raw_inputs]  # If parsing fails, return as a single string\n",
    "\n",
    "# Extract tool name and parsed inputs\n",
    "parsed_actions = []\n",
    "for match in actions:\n",
    "    tool_name = match.group(1)\n",
    "    raw_inputs = match.group(2)\n",
    "    parsed_inputs = parse_tool_inputs(raw_inputs)\n",
    "    parsed_actions.append((tool_name, parsed_inputs))\n",
    "\n",
    "print(parsed_actions)\n",
    "\n",
    "# Example of calling the tools dynamically\n",
    "for tool_name, args in parsed_actions:\n",
    "    print(f\"Calling {tool_name} with arguments: {args}\")"
   ]
  },
  {
   "cell_type": "code",
   "execution_count": 5,
   "metadata": {},
   "outputs": [],
   "source": [
    "def fetch_data(*args):\n",
    "    print(args)"
   ]
  },
  {
   "cell_type": "code",
   "execution_count": 6,
   "metadata": {},
   "outputs": [
    {
     "name": "stdout",
     "output_type": "stream",
     "text": [
      "(42, 'hello, world', [1, 2, 3])\n"
     ]
    }
   ],
   "source": [
    "fetch_data(*[42, 'hello, world', [1, 2, 3]])"
   ]
  },
  {
   "cell_type": "code",
   "execution_count": 14,
   "metadata": {},
   "outputs": [
    {
     "name": "stdout",
     "output_type": "stream",
     "text": [
      "create_user {'user_id': '123', 'user_name': 'Alice'}\n",
      "create_user {'user_id': '123', 'products': {1: 2, 2: 5}}\n",
      "list_all_products {}\n"
     ]
    }
   ],
   "source": [
    "import re\n",
    "\n",
    "# Updated regex to capture tool name and raw input string\n",
    "action_re = re.compile(r\"^Action: (\\w+): (.+)$\")\n",
    "\n",
    "# Example response content\n",
    "response_content = \"\"\"\n",
    "Action: create_user: {'user_id': '123', 'user_name': 'Alice'}\n",
    "Action: create_user: {'user_id': '123', 'products': {1: 2, 2: 5}}\n",
    "Action: list_all_products: {}\n",
    "\"\"\"\n",
    "\n",
    "# Extract actions\n",
    "actions = [action_re.match(a) for a in response_content.split(\"\\n\") if action_re.match(a)]\n",
    "\n",
    "# Function to parse tool inputs correctly\n",
    "import ast\n",
    "                \n",
    "if actions:\n",
    "    for match in actions:\n",
    "        action = match.group(1)\n",
    "        tool_inputs = match.group(2)\n",
    "        kwargs = ast.literal_eval(tool_inputs)\n",
    "        \n",
    "        print(action, kwargs)\n",
    "\n",
    "\n",
    "# # Example of calling the tools dynamically\n",
    "# for tool_name, args in parsed_actions:\n",
    "#     print(f\"Calling {tool_name} with arguments: {args}\")"
   ]
  },
  {
   "cell_type": "code",
   "execution_count": 28,
   "metadata": {},
   "outputs": [
    {
     "name": "stdout",
     "output_type": "stream",
     "text": [
      "Here is a list of products available at GreenLife Foods:\n",
      "\n",
      "1. **Organic Almonds** - Stock: 100\n",
      "2. **Whole Wheat Pasta** - Stock: 200\n",
      "3. **Organic Green Tea** - Stock: 150\n",
      "4. **Natural Peanut Butter** - Stock: 180\n",
      "5. **Quinoa** - Stock: 250\n",
      "6. **Chia Seeds** - Stock: 300\n",
      "7. **Organic Honey** - Stock: 120\n",
      "8. **Brown Rice** - Stock: 400\n",
      "9. **Coconut Oil** - Stock: 130\n",
      "10. **Oats** - Stock: 220\n",
      "11. **Flax Seeds** - Stock: 260\n",
      "12. **Dried Cranberries** - Stock: 140\n",
      "13. **Organic Black Beans** - Stock: 350\n",
      "14. **Cashew Butter** - Stock: 100\n",
      "15. **Organic Turmeric Powder** - Stock: 170\n",
      "16. **Coconut Flour** - Stock: 200\n",
      "17. **Raw Walnuts** - Stock: 90\n",
      "18. **Organic Apple Cider Vinegar** - Stock: 110\n",
      "19. **Himalayan Pink Salt** - Stock: 300\n",
      "20. **Cacao Nibs** - Stock: 80\n",
      "\n",
      "If you need more information about any specific product or wish to place an order, let me know!\n"
     ]
    }
   ],
   "source": [
    "text = \"\"\"Answer: Here is the list of all unique products available at GreenLife Foods, along with their IDs and stock quantities:\n",
    "\n",
    "| Product ID | Product Name                     | Stock Quantity |\n",
    "|------------|----------------------------------|----------------|\n",
    "| 1          | Organic Almonds                  | 100            |\n",
    "| 2          | Whole Wheat Pasta                | 200            |\n",
    "| 3          | Organic Green Tea                | 150            |\n",
    "| 4          | Natural Peanut Butter            | 180            |\n",
    "| 5          | Quinoa                           | 250            |\n",
    "| 6          | Chia Seeds                       | 300            |\n",
    "| 7          | Organic Honey                    | 120            |\n",
    "| 8          | Brown Rice                       | 400            |\n",
    "| 9          | Coconut Oil                      | 130            |\n",
    "| 10         | Oats                             | 220            |\n",
    "| 11         | Flax Seeds                       | 260            |\n",
    "| 12         | Dried Cranberries                | 140            |\n",
    "| 13         | Organic Black Beans              | 350            |\n",
    "| 14         | Cashew Butter                    | 100            |\n",
    "| 15         | Organic Turmeric Powder          | 170            |\n",
    "| 16         | Coconut Flour                    | 200            |\n",
    "| 17         | Raw Walnuts                      | 90             |\n",
    "| 18         | Organic Apple Cider Vinegar     | 110            |\n",
    "| 19         | Himalayan Pink Salt              | 300            |\n",
    "| 20         | Cacao Nibs                      | 80             |\n",
    "\n",
    "If you need further information or would like to place an order, feel free to ask!\"\"\"\n",
    "\n",
    "text = \"\"\"Answer: Here is a list of products available at GreenLife Foods:\n",
    "\n",
    "1. **Organic Almonds** - Stock: 100\n",
    "2. **Whole Wheat Pasta** - Stock: 200\n",
    "3. **Organic Green Tea** - Stock: 150\n",
    "4. **Natural Peanut Butter** - Stock: 180\n",
    "5. **Quinoa** - Stock: 250\n",
    "6. **Chia Seeds** - Stock: 300\n",
    "7. **Organic Honey** - Stock: 120\n",
    "8. **Brown Rice** - Stock: 400\n",
    "9. **Coconut Oil** - Stock: 130\n",
    "10. **Oats** - Stock: 220\n",
    "11. **Flax Seeds** - Stock: 260\n",
    "12. **Dried Cranberries** - Stock: 140\n",
    "13. **Organic Black Beans** - Stock: 350\n",
    "14. **Cashew Butter** - Stock: 100\n",
    "15. **Organic Turmeric Powder** - Stock: 170\n",
    "16. **Coconut Flour** - Stock: 200\n",
    "17. **Raw Walnuts** - Stock: 90\n",
    "18. **Organic Apple Cider Vinegar** - Stock: 110\n",
    "19. **Himalayan Pink Salt** - Stock: 300\n",
    "20. **Cacao Nibs** - Stock: 80\n",
    "\n",
    "If you need more information about any specific product or wish to place an order, let me know!\"\"\"\n",
    "pattern = r\"^Answer:\\s*(.*)$\"\n",
    "\n",
    "# Search for the pattern with re.DOTALL to capture multiline text\n",
    "match = re.search(pattern, text, re.DOTALL)\n",
    "\n",
    "if match:\n",
    "    answer_text = match.group(1)  # Extracts the captured text after \"Answer: \"\n",
    "    print(answer_text)\n",
    "else:\n",
    "    print(\"No match found.\")"
   ]
  },
  {
   "cell_type": "code",
   "execution_count": 11,
   "metadata": {},
   "outputs": [
    {
     "name": "stdout",
     "output_type": "stream",
     "text": [
      "You currently have no past orders.\n"
     ]
    }
   ],
   "source": [
    "import re\n",
    "\n",
    "# text = \"Answer: This is the answer text that follows.\"\n",
    "text = '''Observation: The output shows an empty list, which means that the user has no past orders. \n",
    "\n",
    "Answer: You currently have no past orders.'''\n",
    "\n",
    "# Define the regex pattern\n",
    "pattern = r\"Answer:\\s*(.*)$\"\n",
    "\n",
    "# Search for the pattern\n",
    "match = re.search(pattern, text)\n",
    "\n",
    "if match:\n",
    "    answer_text = match.group(1)  # Extracts the captured text after \"Answer: \"\n",
    "    print(answer_text)\n",
    "else:\n",
    "    print(\"No match found.\")"
   ]
  },
  {
   "cell_type": "code",
   "execution_count": null,
   "metadata": {},
   "outputs": [],
   "source": [
    "\"\"\"\n",
    "You are a super smart chatbot agent for GreenLife Foods, and you help their distributors/retailers with their order placing, status info process, or providing them information about GreenLife\\'s products in general. You are tasked with answering the user\\'s queries as logically and factually as possible. You are provided with tools to interact with the database, which you must use to fulfill the user\\'s request. Your job is to 1) determine what information or action you need to perform, 2) decide which tool (CRUD function) to use based on the user\\'s query, and 3) observe the tool\\'s output to form your response. You will rely only on the tools provided to you, never on your intrinsic knowledge, or past conversation history. Here is the reasoning cycle you follow for each user query:\\n        Thought: Analyze the user\\'s request to determine the necessary information or action to perform, and which CRUD function should be called based on the query.\\n        Action: <tool_name>: <tool_input>\\n        The Action step is where you call the appropriate tool (CRUD function) to gather the information or perform the required action. The tool will then provide the relevant output.\\n        Observation: Observe the result returned by the tool. This result should directly inform the answer. Based on your observations, either reach a conclusion (and go to the Answer step) or continue further reasoning (and restart the cycle with another Thought step).\\n        Answer: Provide a clean, concise, and formatted response based on the observations. Include all relevant details without redacting any information, presenting it in a user-friendly way.\\n        Each output from you MUST be one of Thought, Action, Observation or Answer\\n        Always prefix your responses with either of - Thought:, Action:, Observation:, or Answer:, whichever is applicable; to re-iterate every individual turn of conversation must be prefixed by one of the above steps followed by a colon(:), that is of the utmost importance for your response to be parsed. Each time you generate an Action step, stop your response generation and allow the tool to run with the given input. After receiving the output, make observations based on it and proceed toward the final answer. The answer to the user\\'s query MUST be present entirely in the Answer, since that is all that the user sees.\\n        Your available tools are: << tool_name: cancel_order\\ntool_description: \\n    Cancels an order if it is still pending. Calling format: cancel_order: {\"order_id\": <order_id>}\\n    Args:\\n        order_id (int): The ID of the order to cancel.\\n    \\n    Returns:\\n        str: Success or error message.\\n    \\n\\ntool_name: create_user\\ntool_description: \\n    Creates a new user with the given user ID. Calling format: create_user: {\"user_id\": <user_id>, \"user_name\": <user_name>}\\n    Args:\\n        user_id (str): The unique identifier for the user.\\n        user_name (str): The user\\'s name\\n    Returns:\\n        str: Confirmation message on successful user creation or an error message.\\n    \\n\\ntool_name: get_order_status\\ntool_description: \\n    Checks the current status of an order. Calling format: get_order_status: {\"order_id\": <order_id>}\\n    Args:\\n        order_id (int): The order ID to check the status of.\\n    \\n    Returns:\\n        str: The current status of the order.\\n    \\n\\ntool_name: get_past_orders\\ntool_description: \\n    Retrieves all past orders of a user along with their items (each item\\'s id, name, status, and bill amount).\\n    Calling format: get_past_orders: {\"user_id\": <user_id>}\\n    Args:\\n        user_id (str): The unique identifier of the user.\\n    \\n    Returns:\\n        list: A list of dictionaries containing order details (order_id, total_amount, status, items).\\n    \\n\\ntool_name: list_all_products\\ntool_description: \\n    Lists all unique products along with their corresponding IDs, names and stock quantities. Calling format: list_all_products: {}\\n    Returns:\\n        list: A list of dictionaries with product details (id, name, stock_quantity).\\n    \\n\\ntool_name: modify_order\\ntool_description: \\n    Modifies an existing order if it is still pending. Calling format: modify_order: {\"order_id\": <order_id>, \"new_products\": {<product_id_1>: <quantity_1>, <product_id_2>: <quantity_2>}}\\n    Args:\\n        order_id (int): The ID of the order to modify.\\n        new_products (dict): A dictionary of new product quantities to update the order with.\\n    \\n    Returns:\\n        str: Success message or error message if modification is not allowed.\\n    \\n\\ntool_name: place_order\\ntool_description: \\n    Places a new order for the user, checking stock availability for all requested products. Calling format: place_order: {\"user_id\": <user_id>, \"products\": {<product_id_1>: <quantity_1>, <product_id_2>: <quantity_2>}}\\n    Args:\\n        user_id (str): The unique identifier of the user placing the order.\\n        products (dict): A dictionary where keys are product IDs and values are requested quantities.\\n    \\n    Returns:\\n        dict: Order details if successful, or a list of out-of-stock items if any.\\n    \\n\\ntool_name: refresh_order_status\\ntool_description: \\n    Refreshes the order status for all orders that are 5 minutes or older and have a status of \"Confirmed\".\\n    Updates their status to \"Shipped\".\\n    \\n    Calling format: refresh_order_status: {}\\n    \\n    Returns:\\n        dict: A message indicating how many orders were updated.\\n    \\n\\ntool_name: reorder_previous_order\\ntool_description: \\n    Places a reorder for a previously completed order. Calling format: reorder_previous_order: {\"order_id\": <order_id>}\\n    Args:\\n        order_id (int): The ID of the previous order to reorder.\\n    \\n    Returns:\\n        dict: A new order ID if successful, or an error message if stock is insufficient.\\n    \\n\\n >>\\n        VERY IMPORTANT - ALWAYS use the provided tools for every action, and NEVER rely on your intrinsic knowledge. \\n        KEY INFORMATION ABOUT THE USER:\\n        user_id: {user_id}\\n        user_name: {user_name}\\n        The user_id and user_name will need to be accurately specified in tool calls.\\n\n",
    "\"\"\""
   ]
  }
 ],
 "metadata": {
  "kernelspec": {
   "display_name": "sarvam",
   "language": "python",
   "name": "python3"
  },
  "language_info": {
   "codemirror_mode": {
    "name": "ipython",
    "version": 3
   },
   "file_extension": ".py",
   "mimetype": "text/x-python",
   "name": "python",
   "nbconvert_exporter": "python",
   "pygments_lexer": "ipython3",
   "version": "3.12.6"
  }
 },
 "nbformat": 4,
 "nbformat_minor": 2
}
